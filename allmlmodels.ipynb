{
  "nbformat": 4,
  "nbformat_minor": 0,
  "metadata": {
    "colab": {
      "name": "allmlmodels.ipynb",
      "provenance": [],
      "collapsed_sections": [],
      "authorship_tag": "ABX9TyMMm8BVvqPUrcP+nZSzxhAe",
      "include_colab_link": true
    },
    "kernelspec": {
      "name": "python3",
      "display_name": "Python 3"
    },
    "language_info": {
      "name": "python"
    }
  },
  "cells": [
    {
      "cell_type": "markdown",
      "metadata": {
        "id": "view-in-github",
        "colab_type": "text"
      },
      "source": [
        "<a href=\"https://colab.research.google.com/github/agarwalsourabh55/Generalised_MODELLING/blob/sourabh_dev/allmlmodels.ipynb\" target=\"_parent\"><img src=\"https://colab.research.google.com/assets/colab-badge.svg\" alt=\"Open In Colab\"/></a>"
      ]
    },
    {
      "cell_type": "code",
      "execution_count": 5,
      "metadata": {
        "colab": {
          "base_uri": "https://localhost:8080/"
        },
        "id": "I1ewJVjWLzRp",
        "outputId": "77c76274-b08b-4c08-cb70-12fbe77d0b28"
      },
      "outputs": [
        {
          "output_type": "stream",
          "name": "stdout",
          "text": [
            "Mounted at /content/gdrive\n"
          ]
        }
      ],
      "source": [
        "from google.colab import drive\n",
        "drive.mount('/content/gdrive')"
      ]
    },
    {
      "cell_type": "code",
      "source": [
        "path = \"/content/gdrive/MyDrive/diabetes.csv\"\n",
        "import pandas as pd\n",
        "data = pd.read_csv(path)\n"
      ],
      "metadata": {
        "id": "45pzZ99GME0K"
      },
      "execution_count": 6,
      "outputs": []
    },
    {
      "cell_type": "code",
      "source": [
        "from sklearn.model_selection import train_test_split\n",
        "\n",
        "train = data.drop('Diabetic',axis=1)\n",
        "target = data['Diabetic']\n",
        "X_train,X_test,y_train,y_test = train_test_split(train,\n",
        "                                                target,\n",
        "                                                train_size = 0.8)\n"
      ],
      "metadata": {
        "id": "Op3w7N9LNre-"
      },
      "execution_count": 7,
      "outputs": []
    },
    {
      "cell_type": "code",
      "source": [
        "from sklearn.linear_model import LogisticRegression\n",
        "from sklearn.svm import SVC\n",
        "from sklearn.neighbors import KNeighborsClassifier\n",
        "from sklearn.tree import DecisionTreeClassifier\n",
        "from sklearn.ensemble import RandomForestClassifier\n",
        "from xgboost import XGBClassifier\n",
        "import lightgbm as lgb\n",
        "from sklearn.metrics import accuracy_score, roc_auc_score, precision_score, recall_score, f1_score, cohen_kappa_score\n",
        "import matplotlib.pyplot as plt\n",
        "import seaborn as sns\n"
      ],
      "metadata": {
        "id": "Jtcs7gv_PGNm"
      },
      "execution_count": 8,
      "outputs": []
    },
    {
      "cell_type": "code",
      "source": [
        "class CLASSIFICATION_MODELS:\n",
        "  def __init__(self,X_train,X_test,y_train,y_test):\n",
        "    self.X_train = X_train\n",
        "    self.X_test = X_test\n",
        "    self.y_train= y_train\n",
        "    self.y_test = y_test\n",
        "\n",
        "  def showing_plots(self,dataframe):\n",
        "    print(dataframe)\n",
        "    sns.catplot(y=\"metrics\",\n",
        "                x=\"scores\",\n",
        "                hue=\"dataset type\",\n",
        "                kind=\"bar\",\n",
        "                data=dataframe,\n",
        "                )\n",
        "\n",
        "  def calculating_all_metrics(self,prediction_test, prediction_train):\n",
        "    test_accuracy = accuracy_score(self.y_test, prediction_test)\n",
        "    train_accuracy = accuracy_score(self.y_train,prediction_train)\n",
        "\n",
        "    test_precision = precision_score(self.y_test, prediction_test)\n",
        "    train_precision = precision_score(self.y_train,prediction_train)\n",
        "\n",
        "    test_roc = roc_auc_score(self.y_test, prediction_test)\n",
        "    train_roc = roc_auc_score(self.y_train,prediction_train)\n",
        "\n",
        "    test_recall = recall_score(self.y_test, prediction_test)\n",
        "    train_recall = recall_score(self.y_train,prediction_train)\n",
        "\n",
        "    test_f1 = f1_score(self.y_test, prediction_test)\n",
        "    train_f1 = f1_score(self.y_train,prediction_train)\n",
        "\n",
        "    test_cohen = cohen_kappa_score(self.y_test, prediction_test)\n",
        "    train_cohen = cohen_kappa_score(self.y_train,prediction_train)\n",
        "\n",
        "    data =  {\n",
        "              \"metrics\":['Accuracy Score','Accuracy Score',\n",
        "                        'Precision Score','Precision Score',\n",
        "                        'ROC AUC Score','ROC AUC Score',\n",
        "                        'Recall Score','Recall Score',\n",
        "                        'f1 Score','f1 Score',\n",
        "                        'Cohen Kappa Score','Cohen Kappa Score'],\n",
        "              \"dataset type\":[\"train\",\"test\",\n",
        "                              \"train\",\"test\",\n",
        "                              \"train\",\"test\",\n",
        "                              \"train\",\"test\",\n",
        "                              \"train\",\"test\",\n",
        "                              \"train\",\"test\"],\n",
        "              \"scores\":[train_accuracy,test_accuracy,\n",
        "                        train_precision,test_precision,\n",
        "                        train_roc,test_roc,\n",
        "                        train_recall,test_recall,\n",
        "                        train_f1,test_f1,\n",
        "                        train_cohen,test_cohen]\n",
        "              }\n",
        "    dataframes = pd.DataFrame(data)\n",
        "    self.showing_plots(dataframes)\n",
        "\n",
        "  def calculating_accuracy(self,model_dict):\n",
        "\n",
        "    for key,val in model_dict.items():\n",
        "      print(key)\n",
        "      print(val)\n",
        "      prediction_test = val.predict(self.X_test)\n",
        "      prediction_train = val.predict(self.X_train)\n",
        "      self.calculating_all_metrics(prediction_test,\n",
        "                                   prediction_train)\n",
        "      break\n",
        "\n",
        "  def modellingwithaccuracy(self):\n",
        "    logistic_model = self.logistic_regression_base()\n",
        "    svclassifier = self.svm_classifier()\n",
        "    knn_classifier = self.kneighbour_clasifier()\n",
        "    dt_classifier = self.decisiontree_classifier()\n",
        "    rf_classifier = self.randomforest_classifier()\n",
        "    xgb_classifier = self.xgboost_classifier()\n",
        "    lgb_classifier = self.lgbm_classifier()\n",
        "\n",
        "    model_dict = {\"LogisticRegressionClassification\":logistic_model,\n",
        "                  \"SupportVectorMachineClassifier\":svclassifier,\n",
        "                  \"KNearestClassification\":knn_classifier,\n",
        "                  \"DecisionTreeClassification\":dt_classifier,\n",
        "                  \"RandomForestClassification\":rf_classifier,\n",
        "                  \"XGBoostclassifier\":xgb_classifier,\n",
        "                  \"LGboostClassifier\":lgb_classifier\n",
        "                  }\n",
        "    self.calculating_accuracy(model_dict)\n",
        "    return model_dict\n",
        "\n",
        "  def logistic_regression_base(self):\n",
        "    logistic_model = LogisticRegression()\n",
        "    logistic_model.fit(self.X_train,self.y_train)\n",
        "    return logistic_model\n",
        "\n",
        "  def svm_classifier(self):\n",
        "    svclassifier = SVC()\n",
        "    svclassifier.fit(self.X_train,self.y_train)\n",
        "    return svclassifier\n",
        "\n",
        "  def kneighbour_clasifier(self):\n",
        "    knn_classifier = KNeighborsClassifier()\n",
        "    knn_classifier.fit(self.X_train,self.y_train)\n",
        "    return knn_classifier\n",
        "\n",
        "  def decisiontree_classifier(self):\n",
        "    decision_classifier = DecisionTreeClassifier()\n",
        "    decision_classifier.fit(self.X_train,self.y_train)\n",
        "    return decision_classifier\n",
        "\n",
        "  def randomforest_classifier(self):\n",
        "    random_classifier=RandomForestClassifier()\n",
        "    random_classifier.fit(self.X_train,self.y_train)\n",
        "    return random_classifier\n",
        "\n",
        "  def xgboost_classifier(self):\n",
        "    xgb_classifier = XGBClassifier()\n",
        "    xgb_classifier.fit(self.X_train,self.y_train)\n",
        "    return xgb_classifier\n",
        "\n",
        "  def lgbm_classifier(self):\n",
        "    lgb_classifier = lgb.LGBMClassifier()\n",
        "    lgb_classifier.fit(self.X_train,self.y_train)\n",
        "    return lgb_classifier\n",
        "\n",
        "cm = CLASSIFICATION_MODELS(X_train,X_test,y_train,y_test)\n",
        "cm.modellingwithaccuracy()\n"
      ],
      "metadata": {
        "colab": {
          "base_uri": "https://localhost:8080/",
          "height": 840
        },
        "id": "BMmHjdktPfWd",
        "outputId": "8d620869-2fcc-4771-ede2-a3728edc0f4e"
      },
      "execution_count": 17,
      "outputs": [
        {
          "output_type": "stream",
          "name": "stdout",
          "text": [
            "LogisticRegressionClassification\n",
            "LogisticRegression()\n",
            "              metrics dataset type    scores\n",
            "0      Accuracy Score        train  0.665125\n",
            "1      Accuracy Score         test  0.667500\n",
            "2     Precision Score        train  0.000000\n",
            "3     Precision Score         test  0.000000\n",
            "4       ROC AUC Score        train  0.500000\n",
            "5       ROC AUC Score         test  0.500000\n",
            "6        Recall Score        train  0.000000\n",
            "7        Recall Score         test  0.000000\n",
            "8            f1 Score        train  0.000000\n",
            "9            f1 Score         test  0.000000\n",
            "10  Cohen Kappa Score        train  0.000000\n",
            "11  Cohen Kappa Score         test  0.000000\n"
          ]
        },
        {
          "output_type": "stream",
          "name": "stderr",
          "text": [
            "/usr/local/lib/python3.7/dist-packages/sklearn/metrics/_classification.py:1318: UndefinedMetricWarning: Precision is ill-defined and being set to 0.0 due to no predicted samples. Use `zero_division` parameter to control this behavior.\n",
            "  _warn_prf(average, modifier, msg_start, len(result))\n",
            "/usr/local/lib/python3.7/dist-packages/sklearn/metrics/_classification.py:1318: UndefinedMetricWarning: Precision is ill-defined and being set to 0.0 due to no predicted samples. Use `zero_division` parameter to control this behavior.\n",
            "  _warn_prf(average, modifier, msg_start, len(result))\n"
          ]
        },
        {
          "output_type": "execute_result",
          "data": {
            "text/plain": [
              "{'LogisticRegressionClassification': LogisticRegression(),\n",
              " 'SupportVectorMachineClassifier': SVC(),\n",
              " 'KNearestClassification': KNeighborsClassifier(),\n",
              " 'DecisionTreeClassification': DecisionTreeClassifier(),\n",
              " 'RandomForestClassification': RandomForestClassifier(),\n",
              " 'XGBoostclassifier': XGBClassifier(),\n",
              " 'LGboostClassifier': LGBMClassifier()}"
            ]
          },
          "metadata": {},
          "execution_count": 17
        },
        {
          "output_type": "display_data",
          "data": {
            "text/plain": [
              "<Figure size 431x360 with 1 Axes>"
            ],
            "image/png": "[encoded data removed]"
          },
          "metadata": {
            "needs_background": "light"
          }
        }
      ]
    },
    {
      "cell_type": "code",
      "source": [
        "              metrics dataset type    scores\n",
        "0      Accuracy Score        train  0.665125\n",
        "1      Accuracy Score         test  0.667500\n",
        "2     Precision Score        train  0.000000\n",
        "3     Precision Score         test  0.000000\n",
        "4       ROC AUC Score        train  0.500000\n",
        "5       ROC AUC Score         test  0.500000\n",
        "6        Recall Score        train  0.000000\n",
        "7        Recall Score         test  0.000000\n",
        "8            f1 Score        train  0.000000\n",
        "9            f1 Score         test  0.000000\n",
        "10  Cohen Kappa Score        train  0.000000\n",
        "11  Cohen Kappa Score         test  0.000000\n",
        "/usr/local/lib/python3.7/dist-packages/sklearn"
      ],
      "metadata": {
        "id": "AzwinNhJCOQs"
      },
      "execution_count": null,
      "outputs": []
    }
  ]
}